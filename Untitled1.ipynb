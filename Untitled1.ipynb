{
  "nbformat": 4,
  "nbformat_minor": 0,
  "metadata": {
    "colab": {
      "name": "Untitled1.ipynb",
      "provenance": []
    },
    "kernelspec": {
      "name": "python3",
      "display_name": "Python 3"
    },
    "language_info": {
      "name": "python"
    }
  },
  "cells": [
    {
      "cell_type": "code",
      "execution_count": 6,
      "metadata": {
        "colab": {
          "base_uri": "https://localhost:8080/"
        },
        "id": "3-yMN5VYoNu-",
        "outputId": "cae5328c-a6aa-4ec5-9f74-64713f585a0a"
      },
      "outputs": [
        {
          "output_type": "stream",
          "name": "stdout",
          "text": [
            "Enter the email:p.nachi@gmail.com\n",
            "Enter the password:1qaz@WSX\n",
            "Valid Email\n",
            "Password is valid\n",
            "User Stored\n",
            "p.nachi@gmail.com,\n",
            "1qaz@WSX\n"
          ]
        }
      ],
      "source": [
        "# Python program to validate an Email\n",
        "\n",
        "import re\n",
        " \n",
        "# Make a regular expression\n",
        "# for validating an Email\n",
        "regex = r'\\b[A-Za-z0-9._%+-]+@[A-Za-z0-9.-]+\\.[A-Z|a-z]{2,}\\b'\n",
        " \n",
        "# Define a function for\n",
        "# for validating an Email\n",
        " \n",
        "def check(email):\n",
        " \n",
        "    # pass the regular expression\n",
        "    # and the string into the fullmatch() method\n",
        "    if(re.fullmatch(regex, email)):\n",
        "        print(\"Valid Email\")\n",
        "        return True\n",
        " \n",
        "    else:\n",
        "        print(\"Invalid Email\")\n",
        "        return False\n",
        "        \n",
        "# Password validation in Python\n",
        "# using naive method\n",
        "  \n",
        "# Function to validate the password\n",
        "def password_check(passwd):\n",
        "      \n",
        "    SpecialSym =['$', '@', '#', '%']\n",
        "    val = True\n",
        "      \n",
        "    if len(passwd) < 5:\n",
        "        print('length should be at least 5')\n",
        "        val = False\n",
        "          \n",
        "    if len(passwd) > 16:\n",
        "        print('length should be not be greater than 16')\n",
        "        val = False\n",
        "          \n",
        "    if not any(char.isdigit() for char in passwd):\n",
        "        print('Password should have at least one digit')\n",
        "        val = False\n",
        "          \n",
        "    if not any(char.isupper() for char in passwd):\n",
        "        print('Password should have at least one uppercase character')\n",
        "        val = False\n",
        "          \n",
        "    if not any(char.islower() for char in passwd):\n",
        "        print('Password should have at least one lowercase character')\n",
        "        val = False\n",
        "          \n",
        "    if not any(char in SpecialSym for char in passwd):\n",
        "        print('Password should have at least one of the symbols $@#')\n",
        "        val = False\n",
        "       \n",
        "    if (val):\n",
        "        print(\"Password is valid\")\n",
        "        return True\n",
        "    else:\n",
        "        print(\"Invalid Password !!\")\n",
        "        return False  \n",
        "\n",
        "\n",
        "# writing new content to the file\n",
        "fp = open(\"Registration.txt\", 'w')\n",
        "\n",
        "email_ = input(\"Enter the email:\")\n",
        "passwrd = input(\"Enter the password:\")\n",
        "\n",
        "if (check(email_) and password_check(passwrd)):\n",
        "  fp.write(email_)\n",
        "  fp.write(\",  \" + passwrd)\n",
        "\n",
        "print('User Stored')\n",
        "fp.close()\n",
        "\n",
        "# Open the file for reading the new contents\n",
        "fp = open(\"Registration.txt\", 'r')\n",
        "print(fp.read())\n",
        "fp.close()\n",
        "\n"
      ]
    }
  ]
}